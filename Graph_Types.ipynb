{
  "nbformat": 4,
  "nbformat_minor": 0,
  "metadata": {
    "colab": {
      "name": "Graph Types.ipynb",
      "provenance": [],
      "collapsed_sections": []
    },
    "kernelspec": {
      "name": "python3",
      "display_name": "Python 3"
    }
  },
  "cells": [
    {
      "cell_type": "markdown",
      "metadata": {
        "id": "6sOc4Uyr4U-Z",
        "colab_type": "text"
      },
      "source": [
        "## Graph Types"
      ]
    },
    {
      "cell_type": "markdown",
      "metadata": {
        "id": "0zZdVLAd5CYr",
        "colab_type": "text"
      },
      "source": [
        "Creator\n",
        "* Jacob Witman "
      ]
    },
    {
      "cell_type": "markdown",
      "metadata": {
        "id": "g-r6Clq45Hn4",
        "colab_type": "text"
      },
      "source": [
        "### Deviation\n"
      ]
    },
    {
      "cell_type": "markdown",
      "metadata": {
        "id": "2gorxo6E7A0t",
        "colab_type": "text"
      },
      "source": [
        "![No Image](https://drive.google.com/uc?id=1-pMPkeZF29McW-qPET9NHtmL5nFTgtdl)"
      ]
    },
    {
      "cell_type": "markdown",
      "metadata": {
        "id": "w6bZ_NEi7E3w",
        "colab_type": "text"
      },
      "source": [
        "#### What is this telling us?"
      ]
    },
    {
      "cell_type": "markdown",
      "metadata": {
        "id": "95L-spaC7QHF",
        "colab_type": "text"
      },
      "source": [
        "This graph focuses on the category of Hominidae family mascot win vs loss record for every year with recorded data. By using a split, divergent bar graph that is centered at 0, viewers can readily see the majority of the time teams with humanoid mascots lose much more than they win. The color difference from negative to positive values also serves to aid in scanning abilities so viewers can make a snap judgment right away which outcome is more likely, as well as help processing as the color red for negative and blue for positive is intuitive for most people."
      ]
    },
    {
      "cell_type": "markdown",
      "metadata": {
        "id": "YgXyXjmz7cDP",
        "colab_type": "text"
      },
      "source": [
        "### Correlation\n"
      ]
    },
    {
      "cell_type": "markdown",
      "metadata": {
        "id": "SGx15rZq7hvt",
        "colab_type": "text"
      },
      "source": [
        "![alt text](https://drive.google.com/uc?id=1Mr1v6ZOwGOqBaKzQmaYOYxUjn0eIrQvv)"
      ]
    },
    {
      "cell_type": "markdown",
      "metadata": {
        "id": "dljjONNi7jmj",
        "colab_type": "text"
      },
      "source": [
        "#### What is this telling us?"
      ]
    },
    {
      "cell_type": "markdown",
      "metadata": {
        "id": "PwZEZrFB7laG",
        "colab_type": "text"
      },
      "source": [
        "This graph serves to outline median loss points and median win points for each year of the NCAA tournament. Unsurprisingly, the two values are pretty tightly correlated, as viewers can easily see the bar signifying winning points typically stays just above the peak of the line for median loss points for each year. This low margin and tight correlation tells us that no matter what the year is, margins within games (with the excpetion of some outliers) are relatively tight and implies that teams play as hard as they need to in order to eke out wins in most situations, but years with large numbers of blowouts are rare. "
      ]
    },
    {
      "cell_type": "markdown",
      "metadata": {
        "id": "MqUdI-uL7r2s",
        "colab_type": "text"
      },
      "source": [
        "### Ranking\n"
      ]
    },
    {
      "cell_type": "markdown",
      "metadata": {
        "id": "AvlxCOVt7x9F",
        "colab_type": "text"
      },
      "source": [
        "![alt text](https://drive.google.com/uc?id=17S06PZiKR3mOdIHiByHGxCb6y6Qft1uY)"
      ]
    },
    {
      "cell_type": "markdown",
      "metadata": {
        "id": "lCAYtfza7yTq",
        "colab_type": "text"
      },
      "source": [
        "#### What is this telling us?"
      ]
    },
    {
      "cell_type": "markdown",
      "metadata": {
        "id": "MyuciD277ygU",
        "colab_type": "text"
      },
      "source": [
        "This graph is a clear example of which teams are the \"winningest\" teams in the NCAA tournament's history. This means that teams at the left with the largest number of wins do not necessarily have the most tournament championship wins, but rather they frequently make it into to the tournament and win at least a few rounds. Duke for example, at the top, has averaged just under 3 wins per year. Since the max number of wins possible each year is 6, the teams at the top of this ranking are indicative of \"dynasties\" that frequently, if not nearly always, make it into the tournament and do well most years. The disparity between the upper eschelon of top teams and tournament regulars is striklingly apparent both in distribution and win gaps from the top to the bottom."
      ]
    },
    {
      "cell_type": "markdown",
      "metadata": {
        "id": "dGDGl8-G7y8Y",
        "colab_type": "text"
      },
      "source": [
        "### Distribution\n"
      ]
    },
    {
      "cell_type": "markdown",
      "metadata": {
        "id": "FB0uV-jy76p9",
        "colab_type": "text"
      },
      "source": [
        "![alt text](https://drive.google.com/uc?id=1__hx-9aQBsxJHwHm0pWG7WBjvg50M9A2)"
      ]
    },
    {
      "cell_type": "markdown",
      "metadata": {
        "id": "_6SOzhrQ76zH",
        "colab_type": "text"
      },
      "source": [
        "#### What is this telling us?"
      ]
    },
    {
      "cell_type": "markdown",
      "metadata": {
        "id": "HBWqsS_g767h",
        "colab_type": "text"
      },
      "source": [
        "This graph is comparing the average seeds who win in the tournament each year. This data is filtered by each of the 4 regions, and so boxplots that show very wide disparities indicate results where some regions had brackets where a low ranked team either upset much of the bracket, or several highly seeded teams crashed out early creating regional imbalances. A notable point within the data is that the only times that all 4 regions are very close together, signified by a compact boxplot, are when the average winning seed was in the 4.5 to 6 range, indicating that there are years when very few upsets occur, but so far in the tournament there has not been a year where every region endured a large number of upsets to create a higher average win seed in all 4 regions at once."
      ]
    },
    {
      "cell_type": "markdown",
      "metadata": {
        "id": "wQsDThk677Fy",
        "colab_type": "text"
      },
      "source": [
        "### Change over Time\n"
      ]
    },
    {
      "cell_type": "markdown",
      "metadata": {
        "id": "Z1j_YLOA7_OK",
        "colab_type": "text"
      },
      "source": [
        "![alt text](https://drive.google.com/uc?id=16hyfRPgmMeY-erxzcsq7VLMOLkcAMA6l)"
      ]
    },
    {
      "cell_type": "markdown",
      "metadata": {
        "id": "mpfsmmgi7_Vj",
        "colab_type": "text"
      },
      "source": [
        "#### What is this telling us?"
      ]
    },
    {
      "cell_type": "markdown",
      "metadata": {
        "id": "rYLXoMMO7_di",
        "colab_type": "text"
      },
      "source": [
        "I found this graph especially interesting because while it is not anything incredibly special visually, it showed very surprising results. This shows that, from year to year, the average win seed calculation sees a surprsingly large amount of variation. However, depsite this variation the average losing seed remains incredibly constant. This again seems to support the narrative that while some upsets may occur the very best teams at seeds 1 or 2 so consistently perform well that lower seeds are almost always knocked out early and regularly. "
      ]
    },
    {
      "cell_type": "markdown",
      "metadata": {
        "id": "lFwiHoE-7_jZ",
        "colab_type": "text"
      },
      "source": [
        "### Magnitude\n"
      ]
    },
    {
      "cell_type": "markdown",
      "metadata": {
        "id": "ICQFnXj78EbF",
        "colab_type": "text"
      },
      "source": [
        "![alt text](https://drive.google.com/uc?id=1xItk_7T2NFZFyCjXl4FMJ-lBJmSd_A7w)"
      ]
    },
    {
      "cell_type": "markdown",
      "metadata": {
        "id": "QGG7XYG88Eii",
        "colab_type": "text"
      },
      "source": [
        "#### What is this telling us?"
      ]
    },
    {
      "cell_type": "markdown",
      "metadata": {
        "id": "VS7uGa0l8Eos",
        "colab_type": "text"
      },
      "source": [
        "This magnitude graph utilizes a side by side bar graph to compare the magnitudes of two vlues at once. Again, this data was surprising to me as I expected to see A) more of a disparity between the average win points and average loss points and B) I thought that the difference would become even more diparate between eras (80s, 90s, etc.) It does seem to indicate that teams that lose are increasingly being shut out by better teams and scoring slightly less as years go on, and the gap is expanding in magnitudes, just less than perhaps some may expect."
      ]
    },
    {
      "cell_type": "markdown",
      "metadata": {
        "id": "bEKFxP8R8Evk",
        "colab_type": "text"
      },
      "source": [
        "### Part-to-Whole\n"
      ]
    },
    {
      "cell_type": "markdown",
      "metadata": {
        "id": "WFHlcYKV8E35",
        "colab_type": "text"
      },
      "source": [
        "![alt text](https://drive.google.com/uc?id=1F95jbjmhurziu45kBfwoC7dicjbKTnfW)"
      ]
    },
    {
      "cell_type": "markdown",
      "metadata": {
        "id": "PNSd3wlp8UZH",
        "colab_type": "text"
      },
      "source": [
        "#### What is this telling us?"
      ]
    },
    {
      "cell_type": "markdown",
      "metadata": {
        "id": "y9tb_QRA8aqt",
        "colab_type": "text"
      },
      "source": [
        "This Pie Chart is showing only Big 10 conference members' total wins in NCAA tournament history. The disparity is remarkable, with Minnesota only racking up 1 win and teams like Nebraska and Rutgers unable to even get that, while Michigan State has historically dominated the conference and represented the Big 10 the most within the tournament with 54 wins. Penn State itself has notably struggled, only securing 3 wins in the 32 years of data. "
      ]
    }
  ]
}